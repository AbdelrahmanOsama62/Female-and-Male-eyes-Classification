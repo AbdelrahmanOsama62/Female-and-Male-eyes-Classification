{
  "cells": [
    {
      "cell_type": "code",
      "execution_count": null,
      "metadata": {
        "colab": {
          "base_uri": "https://localhost:8080/"
        },
        "id": "qsN9iV5IMpK4",
        "outputId": "6c9cc1e0-bd44-4f52-e441-783d35648d6c"
      },
      "outputs": [
        {
          "name": "stdout",
          "output_type": "stream",
          "text": [
            "Mounted at /content/drive/\n"
          ]
        }
      ],
      "source": [
        "from google.colab import drive\n",
        "drive.mount('/content/drive/')"
      ]
    },
    {
      "cell_type": "code",
      "execution_count": null,
      "metadata": {
        "id": "QHRvXQAMTo88"
      },
      "outputs": [],
      "source": [
        "import os\n",
        "from PIL import Image\n",
        "import glob\n",
        "import matplotlib.pyplot as plt\n",
        "import numpy as np\n",
        "import cv2\n",
        "directory='/content/drive/MyDrive/Female_and_male_eyes/femaleeyes'\n",
        "image_list_females = []\n",
        "image_list_males = []\n",
        "for filename in glob.glob('/content/drive/MyDrive/Female_and_male_eyes/femaleeyes/*.jpg'):\n",
        "  im = cv2.imread(filename)\n",
        "  im = cv2.cvtColor(im, cv2.COLOR_BGR2RGB)\n",
        "  image_list_females.append(im) \n",
        "for filename in glob.glob('/content/drive/MyDrive/Female_and_male_eyes/maleeyes/*.jpg'):\n",
        "  im = cv2.imread(filename)\n",
        "  im = cv2.cvtColor(im, cv2.COLOR_BGR2RGB)\n",
        "  image_list_males.append(im) "
      ]
    },
    {
      "cell_type": "code",
      "execution_count": null,
      "metadata": {
        "id": "Y9H1az-DvGKk"
      },
      "outputs": [],
      "source": [
        "import csv\n",
        "import pandas as pd\n",
        "from skimage.filters.rank import entropy\n",
        "from skimage.morphology import disk\n",
        "from skimage.filters import prewitt_h,prewitt_v\n",
        "\n",
        "\n",
        "data_to_append_females=[]\n",
        "data_to_append_males=[]\n",
        "\n",
        "\n",
        "\n",
        "\n",
        "for img in image_list_females:\n",
        "  imm = cv2.cvtColor(img, cv2.COLOR_RGB2GRAY)\n",
        "  imm=cv2.resize(imm,(50,50))\n",
        "  equalized_img = cv2.equalizeHist(imm)\n",
        "  # plt.imshow(equalized_img,cmap='gray')\n",
        "\n",
        "  mean_img=equalized_img.mean()\n",
        "  median_img=np.median(equalized_img)\n",
        "  std_img=equalized_img.std()\n",
        "  var_img=equalized_img.var()\n",
        "  skew_img=(3*(mean_img-median_img))/std_img\n",
        "  entropy_img=entropy(equalized_img, disk(5)).mean()\n",
        "  prewitt_h_img=prewitt_h(equalized_img).mean()\n",
        "  prewitt_v_img=prewitt_v(equalized_img).mean()\n",
        "  sobelx_img = cv2.Sobel(equalized_img,cv2.CV_64F,1,0,ksize=5).mean()\n",
        "  sobely_img = cv2.Sobel(equalized_img,cv2.CV_64F,0,1,ksize=5).mean()\n",
        "\n",
        "  app=[mean_img,median_img,std_img,var_img,skew_img,entropy_img,prewitt_h_img,prewitt_v_img,sobelx_img,sobely_img,'female']\n",
        "  data_to_append_females.append(app)\n",
        "\n",
        "for img in image_list_males:\n",
        "  imm = cv2.cvtColor(img, cv2.COLOR_RGB2GRAY)\n",
        "  imm=cv2.resize(imm,(50,50))\n",
        "  equalized_img = cv2.equalizeHist(imm)\n",
        "  # plt.imshow(equalized_img,cmap='gray')\n",
        "\n",
        "  mean_img=equalized_img.mean()\n",
        "  median_img=np.median(equalized_img)\n",
        "  std_img=equalized_img.std()\n",
        "  var_img=equalized_img.var()\n",
        "  skew_img=(3*(mean_img-median_img))/std_img\n",
        "  entropy_img=entropy(equalized_img, disk(5)).mean()\n",
        "  prewitt_h_img=prewitt_h(equalized_img).mean()\n",
        "  prewitt_v_img=prewitt_v(equalized_img).mean()\n",
        "  sobelx_img = cv2.Sobel(equalized_img,cv2.CV_64F,1,0,ksize=5).mean()\n",
        "  sobely_img = cv2.Sobel(equalized_img,cv2.CV_64F,0,1,ksize=5).mean()\n",
        "\n",
        "  app=[mean_img,median_img,std_img,var_img,skew_img,entropy_img,prewitt_h_img,prewitt_v_img,sobelx_img,sobely_img,'male']\n",
        "  data_to_append_males.append(app)\n",
        "\n",
        "data_to_append_females=np.array(data_to_append_females)\n",
        "data_to_append_males=np.array(data_to_append_males)\n",
        "\n",
        "file= open('Female_and_Male_eyes.csv','a',newline='')\n",
        "writer=csv.writer(file)\n",
        "writer.writerows(data_to_append_females)\n",
        "writer.writerows(data_to_append_males)\n",
        "\n",
        "file.close()"
      ]
    },
    {
      "cell_type": "code",
      "execution_count": null,
      "metadata": {
        "colab": {
          "base_uri": "https://localhost:8080/"
        },
        "id": "CszA3LK3MvBA",
        "outputId": "b493fc36-398f-4c10-ef26-3a7b891b740a"
      },
      "outputs": [
        {
          "data": {
            "text/plain": [
              "0.606323083585968"
            ]
          },
          "execution_count": 4,
          "metadata": {},
          "output_type": "execute_result"
        }
      ],
      "source": [
        "#Apply Decision Tree classifier\n",
        "df = pd.read_csv('Female_and_Male_eyes.csv')\n",
        "df = df.sample(frac=1).reset_index(drop=True)\n",
        "X = df.drop(columns=['label'])\n",
        "y = df['label']\n",
        "#------------------------------------------\n",
        "from pickle import decode_long\n",
        "from sklearn.tree import DecisionTreeClassifier\n",
        "from sklearn.model_selection import train_test_split\n",
        "from sklearn.metrics import accuracy_score\n",
        "import tensorflow as tf\n",
        "import keras\n",
        "from keras.utils import to_categorical\n",
        "X_train,X_test,y_train, y_test = train_test_split(X,y, test_size=0.2)\n",
        "\n",
        "model=DecisionTreeClassifier()\n",
        "model.fit(X_train,y_train)\n",
        "predictions=model.predict(X_test)\n",
        "\n",
        "score=accuracy_score(y_test,predictions)\n",
        "score"
      ]
    },
    {
      "cell_type": "code",
      "execution_count": null,
      "metadata": {
        "colab": {
          "base_uri": "https://localhost:8080/"
        },
        "id": "TjWg-NO5e9PP",
        "outputId": "ae49e48b-6c5d-4405-c6d3-ae8752992a68"
      },
      "outputs": [
        {
          "data": {
            "text/plain": [
              "0.5158077089649199"
            ]
          },
          "execution_count": 8,
          "metadata": {},
          "output_type": "execute_result"
        }
      ],
      "source": [
        "#using only five features\n",
        "\n",
        "df = pd.read_csv('Female_and_Male_eyes.csv')\n",
        "df = df.sample(frac=1).reset_index(drop=True)\n",
        "X = df.drop(columns=['entropy','prewitt_x','prewitt_y','sobel_x','sobel_y','label'])\n",
        "y = df['label']\n",
        "#-----------------------------------------\n",
        "from pickle import decode_long\n",
        "from sklearn.tree import DecisionTreeClassifier\n",
        "from sklearn.model_selection import train_test_split\n",
        "from sklearn.metrics import accuracy_score\n",
        "import tensorflow as tf\n",
        "import keras\n",
        "from keras.utils import to_categorical\n",
        "X_train,X_test,y_train, y_test = train_test_split(X,y, test_size=0.2)\n",
        "\n",
        "model=DecisionTreeClassifier()\n",
        "model.fit(X_train,y_train)\n",
        "predictions=model.predict(X_test)\n",
        "\n",
        "score=accuracy_score(y_test,predictions)\n",
        "score"
      ]
    },
    {
      "cell_type": "code",
      "execution_count": null,
      "metadata": {
        "colab": {
          "base_uri": "https://localhost:8080/"
        },
        "id": "8iPXic5afRzl",
        "outputId": "7dc83171-af71-4638-863c-f11b4b1de9c0"
      },
      "outputs": [
        {
          "data": {
            "text/plain": [
              "0.49545257687310523"
            ]
          },
          "execution_count": 11,
          "metadata": {},
          "output_type": "execute_result"
        }
      ],
      "source": [
        "#using only two features\n",
        "\n",
        "df = pd.read_csv('Female_and_Male_eyes.csv')\n",
        "df = df.sample(frac=1).reset_index(drop=True)\n",
        "X = df.drop(columns=['std','variance','skew','entropy','prewitt_x','prewitt_y','sobel_x','sobel_y','label'])\n",
        "y = df['label']\n",
        "#---------------------------------------------\n",
        "from pickle import decode_long\n",
        "from sklearn.tree import DecisionTreeClassifier\n",
        "from sklearn.model_selection import train_test_split\n",
        "from sklearn.metrics import accuracy_score\n",
        "import tensorflow as tf\n",
        "import keras\n",
        "from keras.utils import to_categorical\n",
        "X_train,X_test,y_train, y_test = train_test_split(X,y, test_size=0.2)\n",
        "\n",
        "model=DecisionTreeClassifier()\n",
        "model.fit(X_train,y_train)\n",
        "predictions=model.predict(X_test)\n",
        "\n",
        "score=accuracy_score(y_test,predictions)\n",
        "score"
      ]
    },
    {
      "cell_type": "code",
      "execution_count": null,
      "metadata": {
        "colab": {
          "base_uri": "https://localhost:8080/"
        },
        "id": "HHeVS8highqL",
        "outputId": "b6f9dc73-3a6d-451c-e5e4-f1e052707d84"
      },
      "outputs": [
        {
          "data": {
            "text/plain": [
              "0.7033347769597228"
            ]
          },
          "execution_count": 14,
          "metadata": {},
          "output_type": "execute_result"
        }
      ],
      "source": [
        "# Applying Random Forest classifier\n",
        "df = pd.read_csv('Female_and_Male_eyes.csv')\n",
        "df = df.sample(frac=1).reset_index(drop=True)\n",
        "X = df.drop(columns=['label'])\n",
        "y = df['label']\n",
        "#---------------------------------------\n",
        "from pickle import decode_long\n",
        "from sklearn.ensemble import RandomForestClassifier\n",
        "from sklearn.model_selection import train_test_split\n",
        "from sklearn.metrics import accuracy_score\n",
        "import tensorflow as tf\n",
        "import keras\n",
        "from keras.utils import to_categorical\n",
        "X_train,X_test,y_train, y_test = train_test_split(X,y, test_size=0.2)\n",
        "\n",
        "model=RandomForestClassifier()\n",
        "model.fit(X_train,y_train)\n",
        "predictions=model.predict(X_test)\n",
        "\n",
        "score=accuracy_score(y_test,predictions)\n",
        "score"
      ]
    },
    {
      "cell_type": "code",
      "execution_count": null,
      "metadata": {
        "colab": {
          "base_uri": "https://localhost:8080/"
        },
        "id": "o4cl3CNchPvO",
        "outputId": "8051052a-34d0-457e-daa8-2fdf84a3e0fa"
      },
      "outputs": [
        {
          "data": {
            "text/plain": [
              "0.5651797314854916"
            ]
          },
          "execution_count": 15,
          "metadata": {},
          "output_type": "execute_result"
        }
      ],
      "source": [
        "#using only five features\n",
        "\n",
        "df = pd.read_csv('Female_and_Male_eyes.csv')\n",
        "df = df.sample(frac=1).reset_index(drop=True)\n",
        "X = df.drop(columns=['entropy','prewitt_x','prewitt_y','sobel_x','sobel_y','label'])\n",
        "y = df['label']\n",
        "from pickle import decode_long\n",
        "from sklearn.ensemble import RandomForestClassifier\n",
        "from sklearn.model_selection import train_test_split\n",
        "from sklearn.metrics import accuracy_score\n",
        "import tensorflow as tf\n",
        "import keras\n",
        "from keras.utils import to_categorical\n",
        "X_train,X_test,y_train, y_test = train_test_split(X,y, test_size=0.2)\n",
        "\n",
        "model=RandomForestClassifier()\n",
        "model.fit(X_train,y_train)\n",
        "predictions=model.predict(X_test)\n",
        "\n",
        "score=accuracy_score(y_test,predictions)\n",
        "score"
      ]
    },
    {
      "cell_type": "code",
      "execution_count": null,
      "metadata": {
        "colab": {
          "base_uri": "https://localhost:8080/"
        },
        "id": "Mlxy7PT2hXuJ",
        "outputId": "bd36cd2f-94af-4b8d-ea3d-dd94abc6097c"
      },
      "outputs": [
        {
          "data": {
            "text/plain": [
              "0.5067128627111304"
            ]
          },
          "execution_count": 19,
          "metadata": {},
          "output_type": "execute_result"
        }
      ],
      "source": [
        "#using only two features\n",
        "\n",
        "df = pd.read_csv('Female_and_Male_eyes.csv')\n",
        "df = df.sample(frac=1).reset_index(drop=True)\n",
        "X = df.drop(columns=['std','variance','skew','entropy','prewitt_x','prewitt_y','sobel_x','sobel_y','label'])\n",
        "y = df['label']\n",
        "from pickle import decode_long\n",
        "from sklearn.ensemble import RandomForestClassifier\n",
        "from sklearn.model_selection import train_test_split\n",
        "from sklearn.metrics import accuracy_score\n",
        "import tensorflow as tf\n",
        "import keras\n",
        "from keras.utils import to_categorical\n",
        "X_train,X_test,y_train, y_test = train_test_split(X,y, test_size=0.2)\n",
        "\n",
        "model=RandomForestClassifier()\n",
        "model.fit(X_train,y_train)\n",
        "predictions=model.predict(X_test)\n",
        "\n",
        "score=accuracy_score(y_test,predictions)\n",
        "score"
      ]
    },
    {
      "cell_type": "code",
      "execution_count": null,
      "metadata": {
        "colab": {
          "base_uri": "https://localhost:8080/"
        },
        "id": "_5TGViWqhizz",
        "outputId": "8089a26c-1f85-4367-a40f-8dfe9dd7304d"
      },
      "outputs": [
        {
          "data": {
            "text/plain": [
              "0.6543958423559982"
            ]
          },
          "execution_count": 24,
          "metadata": {},
          "output_type": "execute_result"
        }
      ],
      "source": [
        "#applying LogisticRegression classifier\n",
        "df = pd.read_csv('Female_and_Male_eyes.csv')\n",
        "df = df.sample(frac=1).reset_index(drop=True)\n",
        "X = df.drop(columns=['label'])\n",
        "y = df['label']\n",
        "from pickle import decode_long\n",
        "from sklearn.linear_model import LogisticRegression\n",
        "from sklearn.model_selection import train_test_split\n",
        "from sklearn.metrics import accuracy_score\n",
        "import tensorflow as tf\n",
        "import keras\n",
        "from keras.utils import to_categorical\n",
        "X_train,X_test,y_train, y_test = train_test_split(X,y, test_size=0.2)\n",
        "\n",
        "model=LogisticRegression()\n",
        "model.fit(X_train,y_train)\n",
        "predictions=model.predict(X_test)\n",
        "\n",
        "score=accuracy_score(y_test,predictions)\n",
        "score"
      ]
    },
    {
      "cell_type": "code",
      "execution_count": null,
      "metadata": {
        "colab": {
          "base_uri": "https://localhost:8080/"
        },
        "id": "jVEgYGhTiDD3",
        "outputId": "8332d7d9-47fd-4382-e78a-d984df4f5075"
      },
      "outputs": [
        {
          "data": {
            "text/plain": [
              "0.5495885664789952"
            ]
          },
          "execution_count": 25,
          "metadata": {},
          "output_type": "execute_result"
        }
      ],
      "source": [
        "#using only five features\n",
        "df = pd.read_csv('Female_and_Male_eyes.csv')\n",
        "df = df.sample(frac=1).reset_index(drop=True)\n",
        "X = df.drop(columns=['entropy','prewitt_x','prewitt_y','sobel_x','sobel_y','label'])\n",
        "y = df['label']\n",
        "from pickle import decode_long\n",
        "from sklearn.ensemble import RandomForestClassifier\n",
        "from sklearn.model_selection import train_test_split\n",
        "from sklearn.metrics import accuracy_score\n",
        "import tensorflow as tf\n",
        "import keras\n",
        "from keras.utils import to_categorical\n",
        "X_train,X_test,y_train, y_test = train_test_split(X,y, test_size=0.2)\n",
        "\n",
        "model=RandomForestClassifier()\n",
        "model.fit(X_train,y_train)\n",
        "predictions=model.predict(X_test)\n",
        "\n",
        "score=accuracy_score(y_test,predictions)\n",
        "score"
      ]
    },
    {
      "cell_type": "code",
      "execution_count": null,
      "metadata": {
        "colab": {
          "base_uri": "https://localhost:8080/"
        },
        "id": "BHIshBKViTMd",
        "outputId": "4e3c7b51-b57d-4c0c-8b3f-85ee794572ea"
      },
      "outputs": [
        {
          "data": {
            "text/plain": [
              "0.5071459506279775"
            ]
          },
          "execution_count": 26,
          "metadata": {},
          "output_type": "execute_result"
        }
      ],
      "source": [
        "#using only two features\n",
        "\n",
        "df = pd.read_csv('Female_and_Male_eyes.csv')\n",
        "df = df.sample(frac=1).reset_index(drop=True)\n",
        "X = df.drop(columns=['std','variance','skew','entropy','prewitt_x','prewitt_y','sobel_x','sobel_y','label'])\n",
        "y = df['label']\n",
        "from pickle import decode_long\n",
        "from sklearn.ensemble import RandomForestClassifier\n",
        "from sklearn.model_selection import train_test_split\n",
        "from sklearn.metrics import accuracy_score\n",
        "import tensorflow as tf\n",
        "import keras\n",
        "from keras.utils import to_categorical\n",
        "X_train,X_test,y_train, y_test = train_test_split(X,y, test_size=0.2)\n",
        "\n",
        "model=RandomForestClassifier()\n",
        "model.fit(X_train,y_train)\n",
        "predictions=model.predict(X_test)\n",
        "\n",
        "score=accuracy_score(y_test,predictions)\n",
        "score"
      ]
    }
  ],
  "metadata": {
    "accelerator": "GPU",
    "colab": {
      "provenance": []
    },
    "gpuClass": "standard",
    "kernelspec": {
      "display_name": "Python 3",
      "name": "python3"
    },
    "language_info": {
      "name": "python"
    }
  },
  "nbformat": 4,
  "nbformat_minor": 0
}
